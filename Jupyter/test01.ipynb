{
 "cells": [
  {
   "cell_type": "code",
   "execution_count": 27,
   "metadata": {},
   "outputs": [
    {
     "data": {
      "text/plain": [
       "['.ipynb_checkpoints',\n",
       " 'SortModule.txt',\n",
       " 'test01.csv',\n",
       " 'test01.ipynb',\n",
       " 'test01.txt',\n",
       " 'test01.xlsx']"
      ]
     },
     "execution_count": 27,
     "metadata": {},
     "output_type": "execute_result"
    }
   ],
   "source": [
    "import os\n",
    "os.listdir()"
   ]
  },
  {
   "cell_type": "code",
   "execution_count": 28,
   "metadata": {},
   "outputs": [],
   "source": [
    "import pandas"
   ]
  },
  {
   "cell_type": "code",
   "execution_count": 44,
   "metadata": {},
   "outputs": [
    {
     "data": {
      "text/html": [
       "<div>\n",
       "<style scoped>\n",
       "    .dataframe tbody tr th:only-of-type {\n",
       "        vertical-align: middle;\n",
       "    }\n",
       "\n",
       "    .dataframe tbody tr th {\n",
       "        vertical-align: top;\n",
       "    }\n",
       "\n",
       "    .dataframe thead th {\n",
       "        text-align: right;\n",
       "    }\n",
       "</style>\n",
       "<table border=\"1\" class=\"dataframe\">\n",
       "  <thead>\n",
       "    <tr style=\"text-align: right;\">\n",
       "      <th></th>\n",
       "      <th>Name</th>\n",
       "      <th>LastName</th>\n",
       "      <th>Title</th>\n",
       "      <th>Job</th>\n",
       "      <th>PhoneNumber</th>\n",
       "    </tr>\n",
       "    <tr>\n",
       "      <th>ID</th>\n",
       "      <th></th>\n",
       "      <th></th>\n",
       "      <th></th>\n",
       "      <th></th>\n",
       "      <th></th>\n",
       "    </tr>\n",
       "  </thead>\n",
       "  <tbody>\n",
       "    <tr>\n",
       "      <th>1</th>\n",
       "      <td>Jack</td>\n",
       "      <td>Jacky</td>\n",
       "      <td>Mr</td>\n",
       "      <td>Engineer</td>\n",
       "      <td>9112345676</td>\n",
       "    </tr>\n",
       "    <tr>\n",
       "      <th>2</th>\n",
       "      <td>Helga</td>\n",
       "      <td>Schmith</td>\n",
       "      <td>Mrs</td>\n",
       "      <td>Nurse</td>\n",
       "      <td>987654321</td>\n",
       "    </tr>\n",
       "    <tr>\n",
       "      <th>3</th>\n",
       "      <td>Javad</td>\n",
       "      <td>Yasari</td>\n",
       "      <td>Mr</td>\n",
       "      <td>Singer</td>\n",
       "      <td>98765431123</td>\n",
       "    </tr>\n",
       "    <tr>\n",
       "      <th>4</th>\n",
       "      <td>Sakineh</td>\n",
       "      <td>Yavari</td>\n",
       "      <td>Ms</td>\n",
       "      <td>HomeDoer</td>\n",
       "      <td>987656765</td>\n",
       "    </tr>\n",
       "    <tr>\n",
       "      <th>5</th>\n",
       "      <td>Hosein</td>\n",
       "      <td>Ibnilarab</td>\n",
       "      <td>Mr</td>\n",
       "      <td>Arab</td>\n",
       "      <td>96253635472</td>\n",
       "    </tr>\n",
       "  </tbody>\n",
       "</table>\n",
       "</div>"
      ],
      "text/plain": [
       "       Name   LastName Title       Job  PhoneNumber\n",
       "ID                                                 \n",
       "1      Jack      Jacky    Mr  Engineer   9112345676\n",
       "2     Helga    Schmith   Mrs     Nurse    987654321\n",
       "3     Javad     Yasari    Mr    Singer  98765431123\n",
       "4   Sakineh     Yavari    Ms  HomeDoer    987656765\n",
       "5    Hosein  Ibnilarab    Mr      Arab  96253635472"
      ]
     },
     "execution_count": 44,
     "metadata": {},
     "output_type": "execute_result"
    }
   ],
   "source": [
    "df1=pandas.read_csv(\"test01.txt\",sep=\";\")\n",
    "df2=df1.set_index(\"ID\")\n",
    "df2\n"
   ]
  }
 ],
 "metadata": {
  "kernelspec": {
   "display_name": "Python 3",
   "language": "python",
   "name": "python3"
  },
  "language_info": {
   "codemirror_mode": {
    "name": "ipython",
    "version": 3
   },
   "file_extension": ".py",
   "mimetype": "text/x-python",
   "name": "python",
   "nbconvert_exporter": "python",
   "pygments_lexer": "ipython3",
   "version": "3.6.4"
  }
 },
 "nbformat": 4,
 "nbformat_minor": 2
}
